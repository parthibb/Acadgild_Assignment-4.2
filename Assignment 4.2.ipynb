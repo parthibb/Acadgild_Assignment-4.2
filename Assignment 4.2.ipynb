{
 "cells": [
  {
   "cell_type": "code",
   "execution_count": 1,
   "metadata": {},
   "outputs": [
    {
     "name": "stdout",
     "output_type": "stream",
     "text": [
      "The list of words are:['ab', 'cde', 'erty']\n",
      "The integers are:[2, 3, 4]\n"
     ]
    }
   ],
   "source": [
    "listofwords = [\"ab\",\"cde\",\"erty\"]\n",
    "\n",
    "listofints = []\n",
    "\n",
    "for i in range(len(listofwords)):\n",
    "    \n",
    "\tlistofints.append(len(listofwords[i]))\n",
    "    \n",
    "print(\"The list of words are:\"+str(listofwords))\n",
    "\n",
    "print(\"The integers are:\"+str(listofints))"
   ]
  },
  {
   "cell_type": "code",
   "execution_count": 2,
   "metadata": {},
   "outputs": [
    {
     "name": "stdout",
     "output_type": "stream",
     "text": [
      "True\n",
      "False\n"
     ]
    }
   ],
   "source": [
    "def isVowel(char):\n",
    "    return char.lower() in 'aeiou'\n",
    "print(isVowel(\"a\"))\n",
    "print(isVowel(\"b\"))"
   ]
  },
  {
   "cell_type": "code",
   "execution_count": null,
   "metadata": {},
   "outputs": [],
   "source": []
  }
 ],
 "metadata": {
  "kernelspec": {
   "display_name": "Python 3",
   "language": "python",
   "name": "python3"
  },
  "language_info": {
   "codemirror_mode": {
    "name": "ipython",
    "version": 3
   },
   "file_extension": ".py",
   "mimetype": "text/x-python",
   "name": "python",
   "nbconvert_exporter": "python",
   "pygments_lexer": "ipython3",
   "version": "3.6.4"
  }
 },
 "nbformat": 4,
 "nbformat_minor": 2
}
